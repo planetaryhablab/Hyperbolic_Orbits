{
 "cells": [
  {
   "cell_type": "markdown",
   "metadata": {
    "deletable": true,
    "editable": true
   },
   "source": [
    "# Initialization"
   ]
  },
  {
   "cell_type": "code",
   "execution_count": 59,
   "metadata": {
    "collapsed": true,
    "deletable": true,
    "editable": true
   },
   "outputs": [],
   "source": []
  },
  {
   "cell_type": "code",
   "execution_count": 12,
   "metadata": {
    "collapsed": false,
    "deletable": true,
    "editable": true
   },
   "outputs": [],
   "source": [
    "# General Definitions\n",
    "from sage.symbolic.integration.integral import definite_integral\n",
    "var('ec,a,L,T,b,c,h,x')\n",
    "%display plain\n",
    "# %display latex"
   ]
  },
  {
   "cell_type": "markdown",
   "metadata": {
    "collapsed": true,
    "deletable": true,
    "editable": true
   },
   "source": [
    "# Elliptic Orbit"
   ]
  },
  {
   "cell_type": "markdown",
   "metadata": {
    "deletable": true,
    "editable": true
   },
   "source": [
    "## Derivation of Spatial Averages"
   ]
  },
  {
   "cell_type": "code",
   "execution_count": null,
   "metadata": {
    "collapsed": false,
    "deletable": true,
    "editable": true
   },
   "outputs": [],
   "source": [
    "# r: spatial average for elliptic orbits\n",
    "assume(ec<1)\n",
    "definite_integral(a*(1-ec^2)/(1+ec*cos(x)),x,0,2*pi)/(2*pi)"
   ]
  },
  {
   "cell_type": "markdown",
   "metadata": {
    "deletable": true,
    "editable": true
   },
   "source": [
    "## Derivation of Temporal Averages"
   ]
  },
  {
   "cell_type": "code",
   "execution_count": 22,
   "metadata": {
    "collapsed": false,
    "deletable": true,
    "editable": true
   },
   "outputs": [
    {
     "data": {
      "text/plain": [
       "1/2*(ec^2 + 2)*a"
      ]
     },
     "execution_count": 22,
     "metadata": {},
     "output_type": "execute_result"
    }
   ],
   "source": [
    "# r: temporal average for elliptic orbits\n",
    "factor(definite_integral(a*(1-ec*cos(x))^2,x,0,2*pi)/(2*pi))"
   ]
  },
  {
   "cell_type": "markdown",
   "metadata": {
    "collapsed": true,
    "deletable": true,
    "editable": true
   },
   "source": [
    "# Hyperbolic Trayectory"
   ]
  },
  {
   "cell_type": "markdown",
   "metadata": {
    "deletable": true,
    "editable": true
   },
   "source": [
    "## Derivation of Spatial Averages"
   ]
  },
  {
   "cell_type": "code",
   "execution_count": null,
   "metadata": {
    "collapsed": false,
    "deletable": true,
    "editable": true
   },
   "outputs": [],
   "source": [
    "# r: spatial average for hyperbolic trayectory\n",
    "assume(ec>1)\n",
    "definite_integral(a*(1-ec^2)/(1+ec*cos(x)),x,0,2*pi)/(2*pi)"
   ]
  },
  {
   "cell_type": "markdown",
   "metadata": {
    "deletable": true,
    "editable": true
   },
   "source": [
    "## Derivation of Temporal Averages"
   ]
  },
  {
   "cell_type": "code",
   "execution_count": 377,
   "metadata": {
    "collapsed": false,
    "deletable": true,
    "editable": true
   },
   "outputs": [
    {
     "data": {
      "text/plain": [
       "-1/8*(4*ec^2*h*e^(2*h) + ec^2*e^(4*h) - 16*ec*e^(2*h)*sinh(h) - ec^2 + 8*h*e^(2*h))*a*e^(-2*h)/(ec*sinh(h) - h)"
      ]
     },
     "execution_count": 377,
     "metadata": {},
     "output_type": "execute_result"
    }
   ],
   "source": [
    "# r: temporal average for hyperbolic trayectory\n",
    "m = 2*(ec*sinh(h)-h)\n",
    "aa = definite_integral((1-ec*cosh(x))^2,x,-h,h)*(-a)*(1/m)\n",
    "factor(aa.full_simplify())"
   ]
  },
  {
   "cell_type": "code",
   "execution_count": 316,
   "metadata": {
    "collapsed": false,
    "deletable": true,
    "editable": true
   },
   "outputs": [
    {
     "data": {
      "text/plain": [
       "L*(arctan(-(ec - e^h)*e^(-h)/sqrt(ec^2 - 1)) + arctan((ec*e^h - 1)/sqrt(ec^2 - 1)))/(sqrt(ec^2 - 1)*(ec*sinh(h) - h)*a^2)"
      ]
     },
     "execution_count": 316,
     "metadata": {},
     "output_type": "execute_result"
    }
   ],
   "source": [
    "# F: temporal average for hyperbolic trayectory\n",
    "assume(ec>1)\n",
    "assume(h>0)\n",
    "m = 2*(ec*sinh(h)-h);\n",
    "aa = definite_integral(1/(1-ec*cosh(x)),x,-h,h)*(-L/a^2)*(1/m)\n",
    "factor(aa.full_simplify())"
   ]
  },
  {
   "cell_type": "code",
   "execution_count": 21,
   "metadata": {
    "collapsed": false,
    "deletable": true,
    "editable": true
   },
   "outputs": [
    {
     "data": {
      "text/plain": [
       "-1/2*T*(-L*(b - 1)/a^2)^(1/4)*integrate(sqrt(-ec*cosh(x) + 1), x, -h, h)/(ec*sinh(h) - h)"
      ]
     },
     "execution_count": 21,
     "metadata": {},
     "output_type": "execute_result"
    }
   ],
   "source": [
    "# Teq: temporal average for hyperbolic trayectory\n",
    "assume(ec>1)\n",
    "assume(h>0)\n",
    "m=2*(ec*sinh(h)-h);\n",
    "factor(definite_integral(sqrt(1-ec*cosh(x)),x,-h,h)*(-T)*(L*(1-b)/a^2)^(1/4)*(1/m))"
   ]
  },
  {
   "cell_type": "markdown",
   "metadata": {
    "deletable": true,
    "editable": true
   },
   "source": [
    "# Parabolic Trayectory"
   ]
  },
  {
   "cell_type": "code",
   "execution_count": 21,
   "metadata": {
    "collapsed": true,
    "deletable": true,
    "editable": true
   },
   "outputs": [],
   "source": [
    " def lprint(z):\n",
    "        print z\n",
    "        print\n",
    "        print latex(z)\n",
    "        print\n",
    "        %display latex\n",
    "        return show(z)"
   ]
  },
  {
   "cell_type": "markdown",
   "metadata": {
    "deletable": true,
    "editable": true
   },
   "source": [
    "## Derivation of Temporal Averages"
   ]
  },
  {
   "cell_type": "code",
   "execution_count": 23,
   "metadata": {
    "collapsed": false,
    "deletable": true,
    "editable": true
   },
   "outputs": [
    {
     "name": "stdout",
     "output_type": "stream",
     "text": [
      "1/5*(3*D^4 + 10*D^2 + 15)*rp/(D^2 + 3)\n",
      "\n",
      "\\frac{{\\left(3 \\, D^{4} + 10 \\, D^{2} + 15\\right)} \\mathit{rp}}{5 \\, {\\left(D^{2} + 3\\right)}}\n",
      "\n"
     ]
    },
    {
     "data": {
      "text/html": [
       "<html><script type=\"math/tex; mode=display\">\\newcommand{\\Bold}[1]{\\mathbf{#1}}\\frac{{\\left(3 \\, D^{4} + 10 \\, D^{2} + 15\\right)} \\mathit{rp}}{5 \\, {\\left(D^{2} + 3\\right)}}</script></html>"
      ],
      "text/plain": [
       "1/5*(3*D^4 + 10*D^2 + 15)*rp/(D^2 + 3)"
      ]
     },
     "metadata": {},
     "output_type": "display_data"
    }
   ],
   "source": [
    "# r: temporal average for parabolic trayectory\n",
    "var('D,rp,x')\n",
    "assume(D>0)\n",
    "m = 2*(D+D^3/3)\n",
    "aa = rp*definite_integral((1+x^2)^2,x,-D,+D)/m\n",
    "bb = factor(aa.full_simplify())\n",
    "lprint(bb)"
   ]
  },
  {
   "cell_type": "code",
   "execution_count": 25,
   "metadata": {
    "collapsed": false,
    "deletable": true,
    "editable": true
   },
   "outputs": [
    {
     "name": "stdout",
     "output_type": "stream",
     "text": [
      "3*L*arctan(D)/((D^2 + 3)*D*rp^2)\n",
      "\n",
      "\\frac{3 \\, L \\arctan\\left(D\\right)}{{\\left(D^{2} + 3\\right)} D \\mathit{rp}^{2}}\n",
      "\n"
     ]
    },
    {
     "data": {
      "text/html": [
       "<html><script type=\"math/tex; mode=display\">\\newcommand{\\Bold}[1]{\\mathbf{#1}}\\frac{3 \\, L \\arctan\\left(D\\right)}{{\\left(D^{2} + 3\\right)} D \\mathit{rp}^{2}}</script></html>"
      ],
      "text/plain": [
       "3*L*arctan(D)/((D^2 + 3)*D*rp^2)"
      ]
     },
     "metadata": {},
     "output_type": "display_data"
    }
   ],
   "source": [
    "# F: temporal average for parabolic trayectory\n",
    "var('D,rp,L,x')\n",
    "m = 2*(D+D^3/3)\n",
    "aa = (L/rp^2)*definite_integral((1+x^2)^(-1),x,-D,+D)/m\n",
    "bb = factor(aa.full_simplify())\n",
    "lprint(bb)"
   ]
  },
  {
   "cell_type": "code",
   "execution_count": 26,
   "metadata": {
    "collapsed": false,
    "deletable": true,
    "editable": true
   },
   "outputs": [
    {
     "name": "stdout",
     "output_type": "stream",
     "text": [
      "3/2*(sqrt(D^2 + 1)*D + arcsinh(D))*T*(-L*(b - 1)/a^2)^(1/4)/((D^2 + 3)*D)\n",
      "\n",
      "\\frac{3 \\, {\\left(\\sqrt{D^{2} + 1} D + {\\rm arcsinh}\\left(D\\right)\\right)} T \\left(-\\frac{L {\\left(b - 1\\right)}}{a^{2}}\\right)^{\\frac{1}{4}}}{2 \\, {\\left(D^{2} + 3\\right)} D}\n",
      "\n"
     ]
    },
    {
     "data": {
      "text/html": [
       "<html><script type=\"math/tex; mode=display\">\\newcommand{\\Bold}[1]{\\mathbf{#1}}\\frac{3 \\, {\\left(\\sqrt{D^{2} + 1} D + {\\rm arcsinh}\\left(D\\right)\\right)} T \\left(-\\frac{L {\\left(b - 1\\right)}}{a^{2}}\\right)^{\\frac{1}{4}}}{2 \\, {\\left(D^{2} + 3\\right)} D}</script></html>"
      ],
      "text/plain": [
       "3/2*(sqrt(D^2 + 1)*D + arcsinh(D))*T*(-L*(b - 1)/a^2)^(1/4)/((D^2 + 3)*D)"
      ]
     },
     "metadata": {},
     "output_type": "display_data"
    }
   ],
   "source": [
    "# Teq: temporal average for parabolic trayectory\n",
    "var('D,rp,L,T,b,x')\n",
    "m = 2*(D+D^3/3)\n",
    "aa = T*(L*(1-b)/a^2)^(1/4)*definite_integral((1+x^2)^(1/2),x,-D,+D)/m\n",
    "bb = factor(aa.full_simplify())\n",
    "lprint(bb)"
   ]
  },
  {
   "cell_type": "markdown",
   "metadata": {
    "collapsed": true,
    "deletable": true,
    "editable": true
   },
   "source": [
    "# Hyperbolic Calculations: (i.e. 'Oumuamua) "
   ]
  },
  {
   "cell_type": "code",
   "execution_count": 68,
   "metadata": {
    "collapsed": true,
    "deletable": true,
    "editable": true
   },
   "outputs": [],
   "source": [
    "ht = 3.71 # hyperbolic anomaly (5.08 for size of Solar System ~122 AU)\n",
    "par = {h: ht, ec:1.2, a: -1.275, L: 1.0, T: 278.5, b: 0.1}"
   ]
  },
  {
   "cell_type": "code",
   "execution_count": 69,
   "metadata": {
    "collapsed": false,
    "deletable": true,
    "editable": true
   },
   "outputs": [
    {
     "name": "stdout",
     "output_type": "stream",
     "text": [
      "H     (hyperbolic anomaly ): 3.71000000000000\n",
      "f     (true anomaly       ): 144.860029293312 degrees\n",
      "M     (mean anomaly       ): 20.7875974022312\n",
      "r     (position vector    ): 29.9968872984504 AU\n",
      "t     (time from periapsis): 4.76584799265094 years\n",
      "<r>   (average distance   ): 15.8128042787533 AU\n",
      "<F>   (average flux       ): 0.112791125758701\n",
      "<Teq> (average temp       ): 85.6542712205156 K\n"
     ]
    },
    {
     "data": {
      "image/png": "[encoded data removed]",
      "text/plain": [
       "Graphics object consisting of 2 graphics primitives"
      ]
     },
     "metadata": {},
     "output_type": "display_data"
    }
   ],
   "source": [
    "# constants\n",
    "mu = 1.32712440018e20 # standard gravitational parameter\n",
    "au = 149597870700 # astronomical unit\n",
    "yr = 3.154e+7 # year\n",
    "\n",
    "rt = a*(1-ec*cosh(ht)) # position\n",
    "ft = (2*arctan(sqrt((ec+1)/(ec-1))*tanh(ht/2))) # true anomaly\n",
    "mt = ec*sinh(ht)-ht # mean anomaly\n",
    "tt = (mt/sqrt(-mu/(a*au)^3))/yr # time\n",
    "\n",
    "# 'Oumuamua Average Distance (AU)\n",
    "mm = 2*(ec*sinh(h)-h);\n",
    "ru = definite_integral((1-ec*cosh(x))^2,x,-h,h)*(-a)*(1/mm)\n",
    "\n",
    "# 'Oumuamua Average Flux (Solar Units)\n",
    "assume(ec>1)\n",
    "assume(h>0)\n",
    "fu = definite_integral(1/(1-ec*cosh(x)),x,-h,h)*(-L/a^2)*(1/mm)\n",
    "\n",
    "# 'Oumuamua Average Teq (K)\n",
    "Tspace = 0 # K (minimum temperature)\n",
    "ss = T*(L*(1-b)/a^2)^(1/4)*(1/mm)\n",
    "Te = numerical_integral(ss.subs(par)*((1-ec.subs(par)*cosh(x))^2)^(1/4),-h.subs(par), h.subs(par)) \n",
    "Tu = Te[0] + Tspace\n",
    "\n",
    "print 'H     (hyperbolic anomaly ):', numerical_approx(ht.subs(par))\n",
    "print 'f     (true anomaly       ):', numerical_approx(ft.subs(par)*180/pi), 'degrees'\n",
    "print 'M     (mean anomaly       ):', numerical_approx(mt.subs(par))\n",
    "print 'r     (position vector    ):', numerical_approx(rt.subs(par)), 'AU'\n",
    "print 't     (time from periapsis):', numerical_approx(tt.subs(par)), 'years'\n",
    "print '<r>   (average distance   ):', numerical_approx(ru.subs(par)), 'AU'\n",
    "print '<F>   (average flux       ):', numerical_approx(fu.subs(par))\n",
    "print '<Teq> (average temp       ):', numerical_approx(Tu), 'K'\n",
    "\n",
    "cc = circle((0,0), ru.subs(par), color = 'green')\n",
    "pp = polar_plot(a.subs(par)*(1-(ec.subs(par))^2)/(1+ec.subs(par)*cos(x)), (x,-ft.subs(par),+ft.subs(par)), color='red')\n",
    "\n",
    "show(pp + cc)"
   ]
  },
  {
   "cell_type": "code",
   "execution_count": 4,
   "metadata": {
    "collapsed": false,
    "deletable": true,
    "editable": true
   },
   "outputs": [
    {
     "name": "stdout",
     "output_type": "stream",
     "text": [
      "-\\frac{{\\left({\\left(\\mathit{ec} \\cosh\\left(h\\right) - 4\\right)} \\mathit{ec} \\sinh\\left(h\\right) + {\\left(\\mathit{ec}^{2} + 2\\right)} h\\right)} a}{2 \\, {\\left(\\mathit{ec} \\sinh\\left(h\\right) - h\\right)}}\n",
      "\n",
      "-1/2*((ec*cosh(h) - 4)*ec*sinh(h) + (ec^2 + 2)*h)*a/(ec*sinh(h) - h)\n",
      "\n",
      "15.8128042787533\n"
     ]
    }
   ],
   "source": [
    "# <r> verification\n",
    "\n",
    "y = -(1/2)*((ec^2+2)*h+ec*sinh(h)*(ec*cosh(h) - 4))*a/(ec*sinh(h)-h) # Maxima & Mathematica\n",
    "\n",
    "print latex(y)\n",
    "print\n",
    "print y\n",
    "print\n",
    "print numerical_approx(y.subs(par))"
   ]
  },
  {
   "cell_type": "markdown",
   "metadata": {
    "deletable": true,
    "editable": true
   },
   "source": [
    "# Verification"
   ]
  },
  {
   "cell_type": "code",
   "execution_count": 5,
   "metadata": {
    "collapsed": false,
    "deletable": true,
    "editable": true
   },
   "outputs": [
    {
     "name": "stdout",
     "output_type": "stream",
     "text": [
      "\\frac{2 \\, L \\arctan\\left(\\frac{{\\left(\\mathit{ec} + 1\\right)} \\tanh\\left(\\frac{1}{2} \\, h\\right)}{\\sqrt{\\mathit{ec}^{2} - 1}}\\right)}{\\sqrt{\\mathit{ec}^{2} - 1} {\\left(\\mathit{ec} \\sinh\\left(h\\right) - h\\right)} a^{2}}\n",
      "\n",
      "2*L*arctan((ec + 1)*tanh(1/2*h)/sqrt(ec^2 - 1))/(sqrt(ec^2 - 1)*(ec*sinh(h) - h)*a^2)\n",
      "\n",
      "0.112791125758702\n"
     ]
    }
   ],
   "source": [
    "# <F> verification\n",
    "\n",
    "y1 = L*(arctan(-(ec - e^h)*e^(-h)/sqrt(ec^2 - 1)) + arctan((ec*e^h - 1)/sqrt(ec^2 - 1)))/(sqrt(ec^2 - 1)*(ec*sinh(h) - h)*a^2) # Maxima\n",
    "y2 = L*(arctan(sqrt(ec^2 - 1)/(ec*csch(h)-1))+pi)/(sqrt(ec^2 - 1)*(ec*sinh(h) - h)*a^2) # Maxima simplification\n",
    "y3 = 2*L*(arctan((1+ec)*tanh(h/2)/sqrt(ec^2 - 1)))/(sqrt(ec^2 - 1)*(ec*sinh(h) - h)*a^2) # Mathematica\n",
    "\n",
    "print latex(y3)\n",
    "print\n",
    "print y3\n",
    "print\n",
    "print numerical_approx(y3.subs(par))"
   ]
  },
  {
   "cell_type": "code",
   "execution_count": 64,
   "metadata": {
    "collapsed": false,
    "deletable": true,
    "editable": true
   },
   "outputs": [
    {
     "name": "stdout",
     "output_type": "stream",
     "text": [
      "\\frac{T {\\left(-2 i \\, \\mathit{ec} + 2 i\\right)} \\left(-\\frac{L {\\left(b - 1\\right)}}{a^{2}}\\right)^{\\frac{1}{4}} E(\\frac{1}{2} i \\, h\\,|\\,\\frac{2 \\, \\mathit{ec}}{\\mathit{ec} - 1})}{{\\left(\\mathit{ec} \\sinh\\left(h\\right) - h\\right)} \\sqrt{\\mathit{ec} - 1}}\n",
      "\n",
      "T*(-2*I*ec + 2*I)*(-L*(b - 1)/a^2)^(1/4)*elliptic_e(1/2*I*h, 2*ec/(ec - 1))/((ec*sinh(h) - h)*sqrt(ec - 1))\n",
      "\n",
      "85.6542712209461\n"
     ]
    }
   ],
   "source": [
    "# <Teq> verification\n",
    "\n",
    "# y = -2*I*(ec-1)*((1-b)*L/a^2)^(1/4)*T*sqrt((ec*cosh(h)-1)/(ec-1))*elliptic_e(I*h/2,2*ec/(ec-1))/(sqrt(ec*cosh(h)-1)*(ec*sinh(h)-h)) # Mathematica \n",
    "# y = -2*I*(ec-1)*((1-b)*L/a^2)^(1/4)*T*sqrt(1/(ec-1))*elliptic_e(I*h/2,2*ec/(ec-1))/(ec*sinh(h)-h) # Mathematica simplification\n",
    "y = -2*I*(ec-1)*((1-b)*L/a^2)^(1/4)*T*sqrt(1/(ec-1))*elliptic_e(I*h/2,2*ec/(ec-1))/(ec*sinh(h)-h) # Mathematica simplification\n",
    "\n",
    "print latex(y)\n",
    "print\n",
    "print y\n",
    "print\n",
    "print numerical_approx(y.subs(par))"
   ]
  },
  {
   "cell_type": "markdown",
   "metadata": {
    "deletable": true,
    "editable": true
   },
   "source": [
    "# Elliptic Calculations: (e.g. Halley Comet)"
   ]
  },
  {
   "cell_type": "code",
   "execution_count": 18,
   "metadata": {
    "collapsed": false,
    "deletable": true,
    "editable": true
   },
   "outputs": [],
   "source": [
    "par1 = {ec: 0.96714291, a: 17.834145, L: 1.0, T: 278.5, b: 0.04} # 1P/Halley\n",
    "par2 = {ec: 0.84832024, a: 2.2151323, L: 1.0, T: 278.5, b: 0.046} # 2P/Encke\n",
    "par3 = {ec: 0.64058232, a: 3.4647374, L: 1.0, T: 278.5, b: 0.06} # 67P/Churyumov–Gerasimenko\n",
    "par4 = {ec: 0.8440912, a: 487.7651, L: 1.0, T: 278.5, b: 0.046} # 90377 Sedna\n",
    "par5 = {ec: 0.8268093, a: 1.0779459, L: 1.0, T: 278.5, b: 0.046} # 1566 Icarus\n",
    "par6 = {ec: 0.20374511, a: 1.126391, L: 1.0, T: 278.5, b: 0.046} # 101955 Bennu\n",
    "\n",
    "pare = par6"
   ]
  },
  {
   "cell_type": "code",
   "execution_count": 19,
   "metadata": {
    "collapsed": false,
    "deletable": true,
    "editable": true,
    "scrolled": true
   },
   "outputs": [
    {
     "name": "stdout",
     "output_type": "stream",
     "text": [
      "<r>   (average distance   ): 1.14977041093459 AU\n",
      "<F>   (average flux       ): 0.805060154586956\n",
      "<Teq> (average temp       ): 258.659401427687 K\n",
      "Tmin  (minimum temp       ): 236.374399946391 K @ 1.35588765819801 AU\n",
      "Tmax  (maximum temp       ): 290.630809183749 K @ 0.896894341801990 AU\n"
     ]
    }
   ],
   "source": [
    "# temporal averages\n",
    "\n",
    "Tspace = 0.0 # K\n",
    "rr = a*(1+ec^2/2)\n",
    "ff = L/(a^2*sqrt(1-ec^2))\n",
    "tt = T*((1-b)*L/a^2)^(1/4)*2*sqrt(1+ec)/pi*elliptic_ec(2*ec/(1+ec)) + Tspace # elliptic_ec implementation equal to Mathematica\n",
    "\n",
    "rp = a*(1-ec)\n",
    "ra = a*(1+ec)\n",
    "\n",
    "tmin = T*((1-b)*L/ra^2)^(1/4) + Tspace\n",
    "tmax = T*((1-b)*L/rp^2)^(1/4) + Tspace\n",
    "\n",
    "print '<r>   (average distance   ):', numerical_approx(rr.subs(pare)), 'AU'\n",
    "print '<F>   (average flux       ):', numerical_approx(ff.subs(pare))\n",
    "print '<Teq> (average temp       ):', numerical_approx(tt.subs(pare)), 'K'\n",
    "print 'Tmin  (minimum temp       ):', numerical_approx(tmin.subs(pare)),'K @', numerical_approx(ra.subs(pare)),'AU'\n",
    "print 'Tmax  (maximum temp       ):', numerical_approx(tmax.subs(pare)),'K @', numerical_approx(rp.subs(pare)),'AU'"
   ]
  },
  {
   "cell_type": "markdown",
   "metadata": {
    "deletable": true,
    "editable": true
   },
   "source": [
    "# Appendix"
   ]
  },
  {
   "cell_type": "markdown",
   "metadata": {
    "deletable": true,
    "editable": true
   },
   "source": [
    "## Average Distance Hyperbolic\n",
    "\n",
    "Original equation from simplification:\n",
    "\\begin{align}\n",
    "\\langle r \\rangle = -\\frac{{\\left({\\left(\\mathit{e} \\cosh\\left(H\\right) - 4\\right)} \\mathit{e} \\sinh\\left(H\\right) + {\\left(\\mathit{e}^{2} + 2\\right)} H\\right)} a}{2 \\, {\\left(\\mathit{e} \\sinh\\left(H\\right) - H\\right)}}\n",
    "\\end{align}\n",
    "\n",
    "Fixed version for paper:\n",
    "\\begin{align}\n",
    "\\langle r \\rangle = -a \\left[\\frac{e \\left(e \\cosh{H} - 4\\right) \\sinh{H} + \\left(e^{2} + 2\\right) H}{2\\left(e \\sinh{H} - H\\right)}\\right]\n",
    "\\end{align}\n",
    "\n",
    "\\begin{align}\n",
    "\\langle r \\rangle = r_p \\left[\\frac{e \\left(e \\cosh{H} - 4\\right) \\sinh{H} + \\left(e^{2} + 2\\right) H}{2\\left(e \\sinh{H} - H\\right) \\left( e-1 \\right) } \\right]\n",
    "\\end{align}\n",
    "\n",
    "## Average Distance Parabolic\n",
    "\n",
    "\\begin{align}\n",
    "\\langle r \\rangle = \\frac{{\\left(3 \\, D^{4} + 10 \\, D^{2} + 15\\right)} \\mathit{rp}}{5 \\, {\\left(D^{2} + 3\\right)}}\n",
    "\\end{align}\n",
    "\n",
    "\n",
    "\\begin{align}\n",
    "\\langle r \\rangle = r_p \\left[ \\frac{3 D^{4} + 10 D^{2} + 15}{5 \\left(D^{2} + 3\\right)} \\right]\n",
    "\\end{align}"
   ]
  },
  {
   "cell_type": "markdown",
   "metadata": {
    "deletable": true,
    "editable": true
   },
   "source": [
    "## Average Flux\n",
    "\n",
    "Original equation from simplification:\n",
    "\\begin{align}\n",
    "\\langle F \\rangle = \\frac{2 \\, L \\arctan\\left(\\frac{{\\left(\\mathit{e} + 1\\right)} \\tanh\\left(\\frac{1}{2} \\,H\\right)}{\\sqrt{\\mathit{e}^{2} - 1}}\\right)}{\\sqrt{\\mathit{e}^{2} - 1} {\\left(\\mathit{e} \\sinh\\left(H\\right) - H\\right)} a^{2}}\n",
    "\\end{align}\n",
    "\n",
    "Fixed version for paper:\n",
    "\\begin{align}\n",
    "\\langle F \\rangle = \\frac{L}{a^2\\sqrt{e^2 - 1}} \\left[ \\frac{2}{e \\sinh{H} - H}\\tan^{-1}\\left({\\frac{\\left(e + 1\\right) \\tanh{\\frac{1}{2}H}}{\\sqrt{e^2 - 1}}}\\right) \\right]\n",
    "\\end{align}\n",
    "\n",
    "\\begin{align}\n",
    "\\langle F \\rangle = \\frac{L}{r_p^2\\sqrt{e^2 - 1}} \\left[ \\frac{2 \\left( e - 1 \\right)^2}{e \\sinh{H} - H}\\tan^{-1}\\left({\\frac{\\left(e + 1\\right) \\tanh{\\frac{1}{2}H}}{\\sqrt{e^2 - 1}}}\\right) \\right]\n",
    "\\end{align}\n"
   ]
  },
  {
   "cell_type": "markdown",
   "metadata": {
    "deletable": true,
    "editable": true
   },
   "source": [
    "## Average Temperature\n",
    "\n",
    "Original equation from simplification:\n",
    "\\begin{align}\n",
    "\\langle T_{eq} \\rangle = \\frac{T {\\left(-2 i \\, \\mathit{e} + 2 i\\right)} \\left(-\\frac{L {\\left(A - 1\\right)}}{a^{2}}\\right)^{\\frac{1}{4}} E(\\frac{1}{2} i \\, H\\,|\\,\\frac{2 \\, \\mathit{e}}{\\mathit{e} - 1})}{{\\left(\\mathit{e} \\sinh\\left(H\\right) - H\\right)} \\sqrt{\\mathit{e} - 1}}\n",
    "\\end{align}\n",
    "\n",
    "Fixed version for paper:\n",
    "\\begin{align}\n",
    "\\langle T_{eq} \\rangle = T_o \\left[\\frac{L {\\left(1 - A\\right)}}{\\beta \\epsilon a^{2}}\\right]^{\\frac{1}{4}} \\left[ \\frac{-2 i \\sqrt{e-1}}{e \\sinh{H} - H} \\, {\\rm \\mathbf{E}}\\left(i\\frac{H}{2} \\mid \\frac{2e}{e - 1}\\right) \\right]\n",
    "\\end{align}\n",
    "\n",
    "\\begin{align}\n",
    "\\langle T_{eq} \\rangle = T_o \\left[\\frac{L {\\left(1 - A\\right)}}{\\beta \\epsilon r_p^{2}}\\right]^{\\frac{1}{4}} \\left[ \\frac{-2 i \\left(e-1\\right)}{e \\sinh{H} - H} \\, {\\rm \\mathbf{E}}\\left(i\\frac{H}{2} \\mid \\frac{2e}{e - 1}\\right) \\right]\n",
    "\\end{align}"
   ]
  },
  {
   "cell_type": "markdown",
   "metadata": {
    "deletable": true,
    "editable": true
   },
   "source": [
    "# Elliptic Orbit Ratios (constant semi-major axis)"
   ]
  },
  {
   "cell_type": "code",
   "execution_count": 112,
   "metadata": {
    "collapsed": false,
    "deletable": true,
    "editable": true
   },
   "outputs": [
    {
     "data": {
      "image/png": "[encoded data removed]",
      "text/plain": [
       "Graphics object consisting of 4 graphics primitives"
      ]
     },
     "metadata": {},
     "output_type": "display_data"
    }
   ],
   "source": [
    "var('ec')\n",
    "\n",
    "# equations\n",
    "\n",
    "rfactor = (1+ec^2/2)\n",
    "ffactor = 1/sqrt(1-ec^2)\n",
    "tfactor = (2*sqrt(1+ec)/pi)*elliptic_ec(2*ec/(1+ec))\n",
    "\n",
    "# create plot\n",
    "\n",
    "p0 = line([(0,1), (1,1)], color = 'black')\n",
    "p1 = plot(rfactor, (ec,0,1), color = 'blue', legend_label = '$<r>_{\\\\mathrm{elliptic}}/<r>_{\\\\mathrm{circular}}$')\n",
    "p2 = plot(ffactor, (ec,0,1), color = 'green', legend_label = '$<F>_{\\\\mathrm{elliptic}}/<F>_{\\\\mathrm{circular}}$')\n",
    "p3 = plot(tfactor, (ec,0,1), color = 'red', legend_label = '$<T_{eq}>_{\\\\mathrm{elliptic}}/<T_{eq}>_{\\\\mathrm{circular}}$')\n",
    "p = p0 + p1 + p2 + p3\n",
    "p.set_axes_range(0, 1, 0, 2)\n",
    "p.set_legend_options(fancybox=True, shadow=False, loc='lower left', borderaxespad=True, borderpad=1.0)\n",
    "p.axes_labels(['$e$','ratio for constant $a$'])\n",
    "p.axes(False)\n",
    "\n",
    "# show and save plot\n",
    "\n",
    "p.show(frame=True)\n",
    "p.save('abel.pdf', frame=True)"
   ]
  },
  {
   "cell_type": "markdown",
   "metadata": {
    "deletable": true,
    "editable": true
   },
   "source": [
    "# Elliptic Orbit Ratios (constant periastron)"
   ]
  },
  {
   "cell_type": "code",
   "execution_count": 113,
   "metadata": {
    "collapsed": false,
    "deletable": true,
    "editable": true
   },
   "outputs": [
    {
     "data": {
      "image/png": "[encoded data removed]",
      "text/plain": [
       "Graphics object consisting of 4 graphics primitives"
      ]
     },
     "metadata": {},
     "output_type": "display_data"
    }
   ],
   "source": [
    "var('ec')\n",
    "\n",
    "# equations\n",
    "\n",
    "rfactor = (1+ec^2/2)*(1-ec)^(-1)\n",
    "ffactor = 1/sqrt(1-ec^2)*(1-ec)^2\n",
    "tfactor = (2*sqrt(1+ec)/pi)*elliptic_ec(2*ec/(1+ec))**(1-ec)^(1/2)\n",
    "\n",
    "# create plot\n",
    "\n",
    "p0 = line([(0,1), (1,1)], color = 'black')\n",
    "p1 = plot(rfactor, (ec,0,1), color = 'blue', legend_label = '$<r>_{\\\\mathrm{elliptic}}/<r>_{\\\\mathrm{circular}}$')\n",
    "p2 = plot(ffactor, (ec,0,1), color = 'green', legend_label = '$<F>_{\\\\mathrm{elliptic}}/<F>_{\\\\mathrm{circular}}$')\n",
    "p3 = plot(tfactor, (ec,0,1), color = 'red', legend_label = '$<T_{eq}>_{\\\\mathrm{elliptic}}/<T_{eq}>_{\\\\mathrm{circular}}$')\n",
    "p = p0 + p1 + p2 + p3\n",
    "p.set_axes_range(0, 1, 0, 2)\n",
    "p.set_legend_options(fancybox=True, shadow=False, loc='lower left', borderaxespad=True, borderpad=1.0)\n",
    "p.axes_labels(['$e$','ratio for constant $r_p$'])\n",
    "p.axes(False)\n",
    "\n",
    "# show and save plot\n",
    "\n",
    "p.show(frame=True)\n",
    "p.save('abel.pdf', frame=True)"
   ]
  },
  {
   "cell_type": "markdown",
   "metadata": {
    "deletable": true,
    "editable": true
   },
   "source": [
    "# Hyperbolic Orbit Ratios (constant semi-major axis)"
   ]
  },
  {
   "cell_type": "code",
   "execution_count": 92,
   "metadata": {
    "collapsed": false,
    "deletable": true,
    "editable": true
   },
   "outputs": [
    {
     "data": {
      "image/png": "[encoded data removed]",
      "text/plain": [
       "Graphics object consisting of 4 graphics primitives"
      ]
     },
     "metadata": {},
     "output_type": "display_data"
    }
   ],
   "source": [
    "var('ec')\n",
    "\n",
    "# equations\n",
    "\n",
    "normal = 1/2*(cosh(h)*sinh(h) + h)/sinh(h)\n",
    "rfactor = ((1/2)*((ec*cosh(h) - 4)*ec*sinh(h) + (ec^2 + 2)*h)/((ec*sinh(h) - h)*(ec-1))/normal).subs(h=5)\n",
    "\n",
    "normal = 2*arctan(tanh(1/2*h))/sinh(h)\n",
    "ffactor = (2*(1-e)^2*(arctan((1+ec)*tanh(h/2)/sqrt(ec^2 - 1)))/((ec*sinh(h) - h)*sqrt(ec^2-1))/normal).subs(h=5)\n",
    "\n",
    "normal = -2*I*elliptic_e(1/2*I*h, 2)/sinh(h)\n",
    "tfactor = (-2*I*(ec-1)*elliptic_e(I*h/2,2*ec/(ec-1))/(ec*sinh(h)-h)/normal).subs(h=5)\n",
    "\n",
    "# create plot\n",
    "\n",
    "p0 = line([(1,1), (2,1)], color = 'black')\n",
    "p1 = plot(rfactor, (ec,1,2), color = 'blue', legend_label = '$<r>_{\\\\mathrm{hyperbolic}}/<r>_{\\\\mathrm{linear}}$')\n",
    "p2 = plot(ffactor, (ec,1,2), color = 'green', legend_label = '$<F>_{\\\\mathrm{hyperbolic}}/<F>_{\\\\mathrm{linear}}$')\n",
    "p3 = plot(tfactor, (ec,1,2), color = 'red', legend_label = '$<T_{eq}>_{\\\\mathrm{hyperbolic}}/<T_{eq}>_{\\\\mathrm{linear}}$')\n",
    "p = p0 + p1 + p2 + p3\n",
    "p.set_axes_range(1, 2, 0, 10)\n",
    "p.set_legend_options(fancybox=True, shadow=False, loc='upper right', borderaxespad=True, borderpad=1.0)\n",
    "p.axes_labels(['$e$','ratio for constant $r_p$'])\n",
    "p.axes(False)\n",
    "\n",
    "# show and save plot\n",
    "\n",
    "p.show(frame=True)\n",
    "p.save('abel.pdf', frame=True)"
   ]
  },
  {
   "cell_type": "code",
   "execution_count": 84,
   "metadata": {
    "collapsed": false,
    "deletable": true,
    "editable": true
   },
   "outputs": [
    {
     "data": {
      "image/png": "[encoded data removed]",
      "text/plain": [
       "Graphics object consisting of 1 graphics primitive"
      ]
     },
     "execution_count": 84,
     "metadata": {},
     "output_type": "execute_result"
    }
   ],
   "source": [
    "# r\n",
    "var('rp')\n",
    "eq = ((-1/2*((ec*cosh(h) - 4)*ec*sinh(h) + (ec^2 + 2)*h)*a/(ec*sinh(h) - h))).subs(a=rp/(1-ec))\n",
    "normal = eq.subs(ec = 1.01)\n",
    "eqr = (eq/normal).subs(h = 10)\n",
    "plot(eqr, (ec,1,2))"
   ]
  },
  {
   "cell_type": "code",
   "execution_count": 80,
   "metadata": {
    "collapsed": false,
    "deletable": true,
    "editable": true
   },
   "outputs": [
    {
     "data": {
      "image/png": "[encoded data removed]",
      "text/plain": [
       "Graphics object consisting of 1 graphics primitive"
      ]
     },
     "execution_count": 80,
     "metadata": {},
     "output_type": "execute_result"
    }
   ],
   "source": [
    "# F\n",
    "eq = 2*L*arctan((ec + 1)*tanh(1/2*h)/sqrt(ec^2 - 1))/(sqrt(ec^2 - 1)*(ec*sinh(h) - h)*a^2)\n",
    "normal = eq.subs(ec = 1.00001)\n",
    "eqr = (eq/normal).subs(h = 100)\n",
    "plot(eqr, (ec,1,2))"
   ]
  },
  {
   "cell_type": "code",
   "execution_count": 91,
   "metadata": {
    "collapsed": false,
    "deletable": true,
    "editable": true
   },
   "outputs": [
    {
     "data": {
      "image/png": "[encoded data removed]",
      "text/plain": [
       "Graphics object consisting of 1 graphics primitive"
      ]
     },
     "execution_count": 91,
     "metadata": {},
     "output_type": "execute_result"
    }
   ],
   "source": [
    "# Teq\n",
    "eq =-2*I*(ec-1)*((1-b)*L/a^2)^(1/4)*T*sqrt(1/(ec-1))*elliptic_e(I*h/2,2*ec/(ec-1))/(ec*sinh(h)-h)\n",
    "normal = eq.subs(ec = 1.00001)\n",
    "eqr = (eq/normal).subs(h = 10)\n",
    "plot(eqr, (ec,1,2))"
   ]
  },
  {
   "cell_type": "markdown",
   "metadata": {
    "deletable": true,
    "editable": true
   },
   "source": [
    "# Pruebas"
   ]
  },
  {
   "cell_type": "code",
   "execution_count": 18,
   "metadata": {
    "collapsed": false,
    "deletable": true,
    "editable": true
   },
   "outputs": [
    {
     "data": {
      "text/plain": [
       "2*((cosh(4) - 2)*sinh(4) + 6)*a*(sinh(4) - 4)/(((cosh(4) - 4)*sinh(4) + 12)*(sinh(4) - 2))"
      ]
     },
     "execution_count": 18,
     "metadata": {},
     "output_type": "execute_result"
    }
   ],
   "source": [
    "eqr.subs(ec=2)"
   ]
  },
  {
   "cell_type": "code",
   "execution_count": 58,
   "metadata": {
    "collapsed": false,
    "deletable": true,
    "editable": true
   },
   "outputs": [
    {
     "data": {
      "text/plain": [
       "(1.34405857090807e43, 1.34405857090807e43)"
      ]
     },
     "execution_count": 58,
     "metadata": {},
     "output_type": "execute_result"
    }
   ],
   "source": [
    "N(cosh(100)), N(sinh(100))"
   ]
  },
  {
   "cell_type": "code",
   "execution_count": 78,
   "metadata": {
    "collapsed": false,
    "deletable": true,
    "editable": true
   },
   "outputs": [
    {
     "data": {
      "text/plain": [
       "1.57079632579490"
      ]
     },
     "execution_count": 78,
     "metadata": {},
     "output_type": "execute_result"
    }
   ],
   "source": [
    "N(arctan(1000000000))"
   ]
  },
  {
   "cell_type": "code",
   "execution_count": 81,
   "metadata": {
    "collapsed": false,
    "deletable": true,
    "editable": true
   },
   "outputs": [
    {
     "data": {
      "text/plain": [
       "1/2*pi"
      ]
     },
     "execution_count": 81,
     "metadata": {},
     "output_type": "execute_result"
    }
   ],
   "source": [
    "limit(arctan(x),x=infinity)"
   ]
  },
  {
   "cell_type": "code",
   "execution_count": 82,
   "metadata": {
    "collapsed": false,
    "deletable": true,
    "editable": true
   },
   "outputs": [
    {
     "data": {
      "text/plain": [
       "1"
      ]
     },
     "execution_count": 82,
     "metadata": {},
     "output_type": "execute_result"
    }
   ],
   "source": [
    "limit(tanh(x),x=infinity)"
   ]
  },
  {
   "cell_type": "code",
   "execution_count": 85,
   "metadata": {
    "collapsed": false,
    "deletable": true,
    "editable": true
   },
   "outputs": [
    {
     "data": {
      "text/plain": [
       "0"
      ]
     },
     "execution_count": 85,
     "metadata": {},
     "output_type": "execute_result"
    }
   ],
   "source": [
    "limit(x/sinh(x),x=infinity)"
   ]
  },
  {
   "cell_type": "code",
   "execution_count": 87,
   "metadata": {
    "collapsed": false,
    "deletable": true,
    "editable": true
   },
   "outputs": [
    {
     "data": {
      "text/plain": [
       "11011.2329201033"
      ]
     },
     "execution_count": 87,
     "metadata": {},
     "output_type": "execute_result"
    }
   ],
   "source": [
    "N(0.5*2*cosh(10)-2)"
   ]
  },
  {
   "cell_type": "code",
   "execution_count": 93,
   "metadata": {
    "collapsed": false,
    "deletable": true,
    "editable": true
   },
   "outputs": [
    {
     "data": {
      "text/plain": [
       "1/2*pi"
      ]
     },
     "execution_count": 93,
     "metadata": {},
     "output_type": "execute_result"
    }
   ],
   "source": [
    "arctan(Infinity)"
   ]
  },
  {
   "cell_type": "code",
   "execution_count": 138,
   "metadata": {
    "collapsed": false,
    "deletable": true,
    "editable": true
   },
   "outputs": [
    {
     "data": {
      "text/plain": [
       "{}"
      ]
     },
     "execution_count": 138,
     "metadata": {},
     "output_type": "execute_result"
    }
   ],
   "source": [
    "p = plot(tan, legend_label='tan')\n",
    "p.set_legend_options()"
   ]
  },
  {
   "cell_type": "code",
   "execution_count": 149,
   "metadata": {
    "collapsed": false,
    "deletable": true,
    "editable": true
   },
   "outputs": [
    {
     "data": {
      "text/plain": [
       "5"
      ]
     },
     "execution_count": 149,
     "metadata": {},
     "output_type": "execute_result"
    }
   ],
   "source": [
    "2 + \\\n",
    "3"
   ]
  },
  {
   "cell_type": "code",
   "execution_count": 66,
   "metadata": {
    "collapsed": false,
    "deletable": true,
    "editable": true
   },
   "outputs": [
    {
     "ename": "AttributeError",
     "evalue": "'function' object has no attribute 'options'",
     "output_type": "error",
     "traceback": [
      "\u001b[0;31m---------------------------------------------------------------------------\u001b[0m",
      "\u001b[0;31mAttributeError\u001b[0m                            Traceback (most recent call last)",
      "\u001b[0;32m<ipython-input-66-08eeab2732d4>\u001b[0m in \u001b[0;36m<module>\u001b[0;34m()\u001b[0m\n\u001b[0;32m----> 1\u001b[0;31m \u001b[0mshow\u001b[0m\u001b[0;34m.\u001b[0m\u001b[0moptions\u001b[0m\u001b[0;34m\u001b[0m\u001b[0m\n\u001b[0m",
      "\u001b[0;31mAttributeError\u001b[0m: 'function' object has no attribute 'options'"
     ]
    }
   ],
   "source": [
    "show.options"
   ]
  },
  {
   "cell_type": "code",
   "execution_count": 73,
   "metadata": {
    "collapsed": false,
    "deletable": true,
    "editable": true
   },
   "outputs": [
    {
     "ename": "AttributeError",
     "evalue": "'function' object has no attribute 'help'",
     "output_type": "error",
     "traceback": [
      "\u001b[0;31m---------------------------------------------------------------------------\u001b[0m",
      "\u001b[0;31mAttributeError\u001b[0m                            Traceback (most recent call last)",
      "\u001b[0;32m<ipython-input-73-9c94ba27b549>\u001b[0m in \u001b[0;36m<module>\u001b[0;34m()\u001b[0m\n\u001b[0;32m----> 1\u001b[0;31m \u001b[0mplot\u001b[0m\u001b[0;34m.\u001b[0m\u001b[0mhelp\u001b[0m\u001b[0;34m\u001b[0m\u001b[0m\n\u001b[0m",
      "\u001b[0;31mAttributeError\u001b[0m: 'function' object has no attribute 'help'"
     ]
    }
   ],
   "source": [
    "plot.help"
   ]
  },
  {
   "cell_type": "code",
   "execution_count": 120,
   "metadata": {
    "collapsed": false,
    "deletable": true,
    "editable": true
   },
   "outputs": [
    {
     "data": {
      "text/plain": [
       "limit(elliptic_e(5.0*I, 2*ec/(ec - 1)), ec, 1)"
      ]
     },
     "execution_count": 120,
     "metadata": {},
     "output_type": "execute_result"
    }
   ],
   "source": [
    "limit(elliptic_e(I*10.0/2,2*ec/(ec-1)),ec=1)"
   ]
  },
  {
   "cell_type": "code",
   "execution_count": 11,
   "metadata": {
    "collapsed": false,
    "deletable": true,
    "editable": true
   },
   "outputs": [
    {
     "ename": "NameError",
     "evalue": "name 'ec' is not defined",
     "output_type": "error",
     "traceback": [
      "\u001b[0;31m---------------------------------------------------------------------------\u001b[0m",
      "\u001b[0;31mNameError\u001b[0m                                 Traceback (most recent call last)",
      "\u001b[0;32m<ipython-input-11-7dd7f0da9c19>\u001b[0m in \u001b[0;36m<module>\u001b[0;34m()\u001b[0m\n\u001b[0;32m----> 1\u001b[0;31m \u001b[0mreal_part\u001b[0m\u001b[0;34m(\u001b[0m\u001b[0mN\u001b[0m\u001b[0;34m(\u001b[0m\u001b[0;34m(\u001b[0m\u001b[0;34m-\u001b[0m\u001b[0mI\u001b[0m\u001b[0;34m*\u001b[0m\u001b[0msqrt\u001b[0m\u001b[0;34m(\u001b[0m\u001b[0mec\u001b[0m\u001b[0;34m-\u001b[0m\u001b[0mInteger\u001b[0m\u001b[0;34m(\u001b[0m\u001b[0;36m1\u001b[0m\u001b[0;34m)\u001b[0m\u001b[0;34m)\u001b[0m\u001b[0;34m*\u001b[0m\u001b[0melliptic_e\u001b[0m\u001b[0;34m(\u001b[0m\u001b[0mI\u001b[0m\u001b[0;34m*\u001b[0m\u001b[0mh\u001b[0m\u001b[0;34m/\u001b[0m\u001b[0mInteger\u001b[0m\u001b[0;34m(\u001b[0m\u001b[0;36m2\u001b[0m\u001b[0;34m)\u001b[0m\u001b[0;34m,\u001b[0m\u001b[0mInteger\u001b[0m\u001b[0;34m(\u001b[0m\u001b[0;36m2\u001b[0m\u001b[0;34m)\u001b[0m\u001b[0;34m*\u001b[0m\u001b[0mec\u001b[0m\u001b[0;34m/\u001b[0m\u001b[0;34m(\u001b[0m\u001b[0mec\u001b[0m\u001b[0;34m-\u001b[0m\u001b[0mInteger\u001b[0m\u001b[0;34m(\u001b[0m\u001b[0;36m1\u001b[0m\u001b[0;34m)\u001b[0m\u001b[0;34m)\u001b[0m\u001b[0;34m)\u001b[0m\u001b[0;34m/\u001b[0m\u001b[0;34m(\u001b[0m\u001b[0mec\u001b[0m\u001b[0;34m*\u001b[0m\u001b[0msinh\u001b[0m\u001b[0;34m(\u001b[0m\u001b[0mh\u001b[0m\u001b[0;34m)\u001b[0m\u001b[0;34m-\u001b[0m\u001b[0mh\u001b[0m\u001b[0;34m)\u001b[0m\u001b[0;34m*\u001b[0m           \u001b[0;34m(\u001b[0m\u001b[0msinh\u001b[0m\u001b[0;34m(\u001b[0m\u001b[0mh\u001b[0m\u001b[0;34m)\u001b[0m\u001b[0;34m-\u001b[0m\u001b[0mh\u001b[0m\u001b[0;34m)\u001b[0m\u001b[0;34m/\u001b[0m\u001b[0;34m(\u001b[0m\u001b[0mInteger\u001b[0m\u001b[0;34m(\u001b[0m\u001b[0;36m2\u001b[0m\u001b[0;34m)\u001b[0m\u001b[0;34m*\u001b[0m\u001b[0msqrt\u001b[0m\u001b[0;34m(\u001b[0m\u001b[0mpi\u001b[0m\u001b[0;34m)\u001b[0m\u001b[0;34m)\u001b[0m\u001b[0;34m)\u001b[0m\u001b[0;34m.\u001b[0m\u001b[0msubs\u001b[0m\u001b[0;34m(\u001b[0m\u001b[0mh\u001b[0m\u001b[0;34m=\u001b[0m\u001b[0mInteger\u001b[0m\u001b[0;34m(\u001b[0m\u001b[0;36m5\u001b[0m\u001b[0;34m)\u001b[0m\u001b[0;34m,\u001b[0m \u001b[0mec\u001b[0m\u001b[0;34m=\u001b[0m\u001b[0mRealNumber\u001b[0m\u001b[0;34m(\u001b[0m\u001b[0;34m'1.000001'\u001b[0m\u001b[0;34m)\u001b[0m\u001b[0;34m)\u001b[0m\u001b[0;34m)\u001b[0m\u001b[0;34m)\u001b[0m\u001b[0;34m\u001b[0m\u001b[0m\n\u001b[0m",
      "\u001b[0;31mNameError\u001b[0m: name 'ec' is not defined"
     ]
    }
   ],
   "source": [
    "real_part(N((-I*sqrt(ec-1)*elliptic_e(I*h/2,2*ec/(ec-1))/(ec*sinh(h)-h)* \\\n",
    "          (sinh(h)-h)/(2*sqrt(pi))).subs(h=5, ec=1.000001)))"
   ]
  },
  {
   "cell_type": "code",
   "execution_count": 148,
   "metadata": {
    "collapsed": false,
    "deletable": true,
    "editable": true
   },
   "outputs": [
    {
     "data": {
      "text/plain": [
       "arctan(1/2*ec)"
      ]
     },
     "execution_count": 148,
     "metadata": {},
     "output_type": "execute_result"
    }
   ],
   "source": [
    "arctan(ec/2)"
   ]
  },
  {
   "cell_type": "code",
   "execution_count": 151,
   "metadata": {
    "collapsed": false,
    "deletable": true,
    "editable": true
   },
   "outputs": [
    {
     "data": {
      "text/plain": [
       "cos(2*arctan(ec))"
      ]
     },
     "execution_count": 151,
     "metadata": {},
     "output_type": "execute_result"
    }
   ],
   "source": [
    "expand(cos(2*arctan(ec)))"
   ]
  },
  {
   "cell_type": "code",
   "execution_count": 152,
   "metadata": {
    "collapsed": false,
    "deletable": true,
    "editable": true
   },
   "outputs": [
    {
     "data": {
      "text/plain": [
       "4"
      ]
     },
     "execution_count": 152,
     "metadata": {},
     "output_type": "execute_result"
    }
   ],
   "source": [
    "2+2"
   ]
  },
  {
   "cell_type": "code",
   "execution_count": 10,
   "metadata": {
    "collapsed": false,
    "deletable": true,
    "editable": true
   },
   "outputs": [
    {
     "data": {
      "text/plain": [
       "4"
      ]
     },
     "execution_count": 10,
     "metadata": {},
     "output_type": "execute_result"
    }
   ],
   "source": [
    "1+(tan(2/3*pi/2))^2"
   ]
  },
  {
   "cell_type": "code",
   "execution_count": 161,
   "metadata": {
    "collapsed": false,
    "deletable": true,
    "editable": true
   },
   "outputs": [
    {
     "data": {
      "text/plain": [
       "4"
      ]
     },
     "execution_count": 161,
     "metadata": {},
     "output_type": "execute_result"
    }
   ],
   "source": [
    "2/(1+cos(2/3*pi))"
   ]
  },
  {
   "cell_type": "code",
   "execution_count": 9,
   "metadata": {
    "collapsed": false,
    "deletable": true,
    "editable": true
   },
   "outputs": [
    {
     "ename": "NameError",
     "evalue": "name 'definite_integral' is not defined",
     "output_type": "error",
     "traceback": [
      "\u001b[0;31m---------------------------------------------------------------------------\u001b[0m",
      "\u001b[0;31mNameError\u001b[0m                                 Traceback (most recent call last)",
      "\u001b[0;32m<ipython-input-9-f97cec94198b>\u001b[0m in \u001b[0;36m<module>\u001b[0;34m()\u001b[0m\n\u001b[1;32m      1\u001b[0m \u001b[0mvar\u001b[0m\u001b[0;34m(\u001b[0m\u001b[0;34m'a,D'\u001b[0m\u001b[0;34m)\u001b[0m\u001b[0;34m\u001b[0m\u001b[0m\n\u001b[0;32m----> 2\u001b[0;31m \u001b[0ma\u001b[0m\u001b[0;34m*\u001b[0m\u001b[0mfactor\u001b[0m\u001b[0;34m(\u001b[0m\u001b[0mdefinite_integral\u001b[0m\u001b[0;34m(\u001b[0m\u001b[0;34m(\u001b[0m\u001b[0mInteger\u001b[0m\u001b[0;34m(\u001b[0m\u001b[0;36m1\u001b[0m\u001b[0;34m)\u001b[0m\u001b[0;34m+\u001b[0m\u001b[0mx\u001b[0m\u001b[0;34m**\u001b[0m\u001b[0mInteger\u001b[0m\u001b[0;34m(\u001b[0m\u001b[0;36m2\u001b[0m\u001b[0;34m)\u001b[0m\u001b[0;34m)\u001b[0m\u001b[0;34m**\u001b[0m\u001b[0mInteger\u001b[0m\u001b[0;34m(\u001b[0m\u001b[0;36m2\u001b[0m\u001b[0;34m)\u001b[0m\u001b[0;34m,\u001b[0m\u001b[0mx\u001b[0m\u001b[0;34m,\u001b[0m\u001b[0;34m-\u001b[0m\u001b[0mD\u001b[0m\u001b[0;34m,\u001b[0m\u001b[0;34m+\u001b[0m\u001b[0mD\u001b[0m\u001b[0;34m)\u001b[0m\u001b[0;34m/\u001b[0m\u001b[0;34m(\u001b[0m\u001b[0mInteger\u001b[0m\u001b[0;34m(\u001b[0m\u001b[0;36m2\u001b[0m\u001b[0;34m)\u001b[0m\u001b[0;34m*\u001b[0m\u001b[0;34m(\u001b[0m\u001b[0mD\u001b[0m\u001b[0;34m+\u001b[0m\u001b[0mD\u001b[0m\u001b[0;34m**\u001b[0m\u001b[0mInteger\u001b[0m\u001b[0;34m(\u001b[0m\u001b[0;36m3\u001b[0m\u001b[0;34m)\u001b[0m\u001b[0;34m/\u001b[0m\u001b[0mInteger\u001b[0m\u001b[0;34m(\u001b[0m\u001b[0;36m3\u001b[0m\u001b[0;34m)\u001b[0m\u001b[0;34m)\u001b[0m\u001b[0;34m)\u001b[0m\u001b[0;34m)\u001b[0m\u001b[0;34m\u001b[0m\u001b[0m\n\u001b[0m",
      "\u001b[0;31mNameError\u001b[0m: name 'definite_integral' is not defined"
     ]
    }
   ],
   "source": [
    "var('a,D')\n",
    "a*factor(definite_integral((1+x^2)^2,x,-D,+D)/(2*(D+D^3/3)))"
   ]
  },
  {
   "cell_type": "code",
   "execution_count": 90,
   "metadata": {
    "collapsed": false,
    "deletable": true,
    "editable": true
   },
   "outputs": [
    {
     "name": "stdout",
     "output_type": "stream",
     "text": [
      "1/2*(cosh(h)*sinh(h) + h)/sinh(h)\n",
      "2*arctan(tanh(1/2*h))/sinh(h)\n",
      "-2*I*elliptic_e(1/2*I*h, 2)/sinh(h)\n"
     ]
    }
   ],
   "source": [
    "print limit((1/2)*((ec*cosh(h) - 4)*ec*sinh(h) + (ec^2 + 2)*h)/((ec*sinh(h) - h)*(ec-1)), ec=infinity)\n",
    "print limit(2*(ec-1)^2*(arctan((1+ec)*tanh(h/2)/sqrt(ec^2 - 1)))/((ec*sinh(h) - h)*sqrt(ec^2-1)), ec=infinity)\n",
    "print limit(-2*i*(ec-1)*elliptic_e(I*h/2,2)/(ec*sinh(h)-h), ec=infinity)"
   ]
  },
  {
   "cell_type": "code",
   "execution_count": 61,
   "metadata": {
    "collapsed": false,
    "deletable": true,
    "editable": true
   },
   "outputs": [
    {
     "data": {
      "text/html": [
       "<html><script type=\"math/tex; mode=display\">\\newcommand{\\Bold}[1]{\\mathbf{#1}}\\infty</script></html>"
      ],
      "text/plain": [
       "Infinity"
      ]
     },
     "execution_count": 61,
     "metadata": {},
     "output_type": "execute_result"
    }
   ],
   "source": [
    "assume(sinh(h)-h>0)\n",
    "print limit((ec^2 + 2)/(2*(sinh(h)-h)*(ec-1)), ec=1)\n",
    "print limit(-2*i*(arctan((1+ec)*tanh(h/2)/sqrt(ec^2 - 1)))/((ec*sinh(h) - h)*(ec-1)), ec)"
   ]
  },
  {
   "cell_type": "code",
   "execution_count": 71,
   "metadata": {
    "collapsed": true
   },
   "outputs": [],
   "source": [
    "%display plain"
   ]
  },
  {
   "cell_type": "code",
   "execution_count": 89,
   "metadata": {
    "collapsed": false
   },
   "outputs": [
    {
     "data": {
      "text/plain": [
       "2"
      ]
     },
     "execution_count": 89,
     "metadata": {},
     "output_type": "execute_result"
    }
   ],
   "source": [
    "limit(2*ec/(ec - 1), ec=infinity)"
   ]
  },
  {
   "cell_type": "code",
   "execution_count": null,
   "metadata": {
    "collapsed": true
   },
   "outputs": [],
   "source": []
  }
 ],
 "metadata": {
  "kernelspec": {
   "display_name": "SageMath 8.1",
   "language": "",
   "name": "sagemath"
  },
  "language_info": {
   "codemirror_mode": {
    "name": "ipython",
    "version": 2
   },
   "file_extension": ".py",
   "mimetype": "text/x-python",
   "name": "python",
   "nbconvert_exporter": "python",
   "pygments_lexer": "ipython2",
   "version": "2.7.14"
  }
 },
 "nbformat": 4,
 "nbformat_minor": 2
}

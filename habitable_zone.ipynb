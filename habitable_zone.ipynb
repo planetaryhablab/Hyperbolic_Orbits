{
 "cells": [
  {
   "cell_type": "code",
   "execution_count": null,
   "metadata": {
    "collapsed": true
   },
   "outputs": [],
   "source": [
    "@interact\n",
    "def _(f=input_box(10, width=100, label=\"Exponent = \"), y=input_box(10, width=50, label=\"Factor = \"), auto_update=False):\n",
    "    show(plot(y*x^f,(x,0,1)))"
   ]
  },
  {
   "cell_type": "code",
   "execution_count": null,
   "metadata": {
    "collapsed": true
   },
   "outputs": [],
   "source": [
    "@interact\n",
    "def space(mass=(\"$abel$\",5)):\n",
    "    show(plot(x^mass,(x,0,1)))"
   ]
  }
 ],
 "metadata": {
  "kernelspec": {
   "display_name": "SageMath 8.1",
   "language": "",
   "name": "sagemath"
  },
  "language_info": {
   "codemirror_mode": {
    "name": "ipython",
    "version": 2
   },
   "file_extension": ".py",
   "mimetype": "text/x-python",
   "name": "python",
   "nbconvert_exporter": "python",
   "pygments_lexer": "ipython2",
   "version": "2.7.14"
  }
 },
 "nbformat": 4,
 "nbformat_minor": 2
}
